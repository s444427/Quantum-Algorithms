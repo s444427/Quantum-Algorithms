{
 "cells": [
  {
   "cell_type": "code",
   "execution_count": 2,
   "id": "macro-blackberry",
   "metadata": {},
   "outputs": [],
   "source": [
    "from qiskit import QuantumCircuit"
   ]
  },
  {
   "cell_type": "code",
   "execution_count": 3,
   "id": "handed-paste",
   "metadata": {},
   "outputs": [
    {
     "data": {
      "text/html": [
       "<pre style=\"word-wrap: normal;white-space: pre;background: #fff0;line-height: 1.1;font-family: &quot;Courier New&quot;,Courier,monospace\">     ┌───┐        ┌─┐\n",
       "q_0: ┤ H ├──■─────┤M├\n",
       "     └───┘┌─┴─┐┌─┐└╥┘\n",
       "q_1: ─────┤ X ├┤M├─╫─\n",
       "          └───┘└╥┘ ║ \n",
       "c: 2/═══════════╩══╩═\n",
       "                1  0 </pre>"
      ],
      "text/plain": [
       "     ┌───┐        ┌─┐\n",
       "q_0: ┤ H ├──■─────┤M├\n",
       "     └───┘┌─┴─┐┌─┐└╥┘\n",
       "q_1: ─────┤ X ├┤M├─╫─\n",
       "          └───┘└╥┘ ║ \n",
       "c: 2/═══════════╩══╩═\n",
       "                1  0 "
      ]
     },
     "execution_count": 3,
     "metadata": {},
     "output_type": "execute_result"
    }
   ],
   "source": [
    "circ = QuantumCircuit(2,2)\n",
    "circ.h(0)\n",
    "circ.cx(0,1)\n",
    "circ.measure(1,1)\n",
    "circ.measure(0,0)\n",
    "circ.draw()"
   ]
  },
  {
   "cell_type": "code",
   "execution_count": null,
   "id": "perfect-polls",
   "metadata": {},
   "outputs": [],
   "source": []
  },
  {
   "cell_type": "code",
   "execution_count": 4,
   "id": "christian-replication",
   "metadata": {},
   "outputs": [],
   "source": [
    "from qiskit import Aer\n",
    "from qiskit import assemble"
   ]
  },
  {
   "cell_type": "code",
   "execution_count": 5,
   "id": "surgical-process",
   "metadata": {},
   "outputs": [],
   "source": [
    "symulator = Aer.get_backend('qasm_simulator')\n",
    "qobj = assemble(circ, shots=1000)\n",
    "wyniki = symulator.run(qobj)"
   ]
  },
  {
   "cell_type": "code",
   "execution_count": 6,
   "id": "rapid-kuwait",
   "metadata": {},
   "outputs": [
    {
     "name": "stdout",
     "output_type": "stream",
     "text": [
      "{'11': 515, '00': 485}\n"
     ]
    }
   ],
   "source": [
    "hist = wyniki.result().get_counts()\n",
    "print(hist)"
   ]
  },
  {
   "cell_type": "code",
   "execution_count": 7,
   "id": "prescription-edwards",
   "metadata": {},
   "outputs": [
    {
     "data": {
      "image/png": "[encoded data removed]",
      "text/plain": [
       "<Figure size 504x360 with 1 Axes>"
      ]
     },
     "execution_count": 7,
     "metadata": {},
     "output_type": "execute_result"
    }
   ],
   "source": [
    "from qiskit.visualization import plot_histogram\n",
    "\n",
    "plot_histogram(hist)"
   ]
  },
  {
   "cell_type": "code",
   "execution_count": 8,
   "id": "cosmetic-composer",
   "metadata": {},
   "outputs": [
    {
     "data": {
      "text/html": [
       "<pre style=\"word-wrap: normal;white-space: pre;background: #fff0;line-height: 1.1;font-family: &quot;Courier New&quot;,Courier,monospace\">     ┌───┐ ░ ┌───┐ ░ ┌─┐   \n",
       "q_0: ┤ X ├─░─┤ X ├─░─┤M├───\n",
       "     ├───┤ ░ └───┘ ░ └╥┘┌─┐\n",
       "q_1: ┤ X ├─░───────░──╫─┤M├\n",
       "     └───┘ ░       ░  ║ └╥┘\n",
       "c: 2/═════════════════╩══╩═\n",
       "                      0  1 </pre>"
      ],
      "text/plain": [
       "     ┌───┐ ░ ┌───┐ ░ ┌─┐   \n",
       "q_0: ┤ X ├─░─┤ X ├─░─┤M├───\n",
       "     ├───┤ ░ └───┘ ░ └╥┘┌─┐\n",
       "q_1: ┤ X ├─░───────░──╫─┤M├\n",
       "     └───┘ ░       ░  ║ └╥┘\n",
       "c: 2/═════════════════╩══╩═\n",
       "                      0  1 "
      ]
     },
     "execution_count": 8,
     "metadata": {},
     "output_type": "execute_result"
    }
   ],
   "source": [
    "# Dodawanie modulo 4\n",
    "\n",
    "circ2 = QuantumCircuit(2,2)\n",
    "\n",
    "circ2.x(0)\n",
    "circ2.x(1)\n",
    "\n",
    "circ2.barrier()\n",
    "\n",
    "circ2.x(0)\n",
    "circ2.barrier()\n",
    "\n",
    "circ2.measure(0,0)\n",
    "circ2.measure(1,1)\n",
    "\n",
    "circ2.draw()"
   ]
  },
  {
   "cell_type": "code",
   "execution_count": 9,
   "id": "incomplete-decimal",
   "metadata": {},
   "outputs": [],
   "source": [
    "symulator2 = Aer.get_backend('qasm_simulator')\n",
    "qobj2 = assemble(circ2, shots=1000)\n",
    "wyniki2 = symulator2.run(qobj2)"
   ]
  },
  {
   "cell_type": "code",
   "execution_count": 10,
   "id": "powerful-humanity",
   "metadata": {},
   "outputs": [
    {
     "name": "stdout",
     "output_type": "stream",
     "text": [
      "{'10': 1000}\n"
     ]
    }
   ],
   "source": [
    "hist2 = wyniki2.result().get_counts()\n",
    "print(hist2)"
   ]
  },
  {
   "cell_type": "code",
   "execution_count": 11,
   "id": "respective-dragon",
   "metadata": {},
   "outputs": [
    {
     "data": {
      "image/png": "[encoded data removed]",
      "text/plain": [
       "<Figure size 504x360 with 1 Axes>"
      ]
     },
     "execution_count": 11,
     "metadata": {},
     "output_type": "execute_result"
    }
   ],
   "source": [
    "from qiskit.visualization import plot_histogram\n",
    "\n",
    "plot_histogram(hist2)"
   ]
  },
  {
   "cell_type": "code",
   "execution_count": 12,
   "id": "strong-hunter",
   "metadata": {},
   "outputs": [
    {
     "data": {
      "text/html": [
       "<pre style=\"word-wrap: normal;white-space: pre;background: #fff0;line-height: 1.1;font-family: &quot;Courier New&quot;,Courier,monospace\">     ┌───┐ ░            ░       \n",
       "q_0: ┤ X ├─░───■────■───░───────\n",
       "     ├───┤ ░   │  ┌─┴─┐ ░ ┌─┐   \n",
       "q_1: ┤ X ├─░───■──┤ X ├─░─┤M├───\n",
       "     └───┘ ░ ┌─┴─┐└───┘ ░ └╥┘┌─┐\n",
       "q_2: ──────░─┤ X ├──────░──╫─┤M├\n",
       "           ░ └───┘      ░  ║ └╥┘\n",
       "c: 2/══════════════════════╩══╩═\n",
       "                           1  0 </pre>"
      ],
      "text/plain": [
       "     ┌───┐ ░            ░       \n",
       "q_0: ┤ X ├─░───■────■───░───────\n",
       "     ├───┤ ░   │  ┌─┴─┐ ░ ┌─┐   \n",
       "q_1: ┤ X ├─░───■──┤ X ├─░─┤M├───\n",
       "     └───┘ ░ ┌─┴─┐└───┘ ░ └╥┘┌─┐\n",
       "q_2: ──────░─┤ X ├──────░──╫─┤M├\n",
       "           ░ └───┘      ░  ║ └╥┘\n",
       "c: 2/══════════════════════╩══╩═\n",
       "                           1  0 "
      ]
     },
     "execution_count": 12,
     "metadata": {},
     "output_type": "execute_result"
    }
   ],
   "source": [
    "#Half adder (półsumator)\n",
    "\n",
    "circsum = QuantumCircuit(3,2)\n",
    "\n",
    "# Inputs - stariting are 0,0\n",
    "\n",
    "circsum.x(0)\n",
    "circsum.x(1)\n",
    "\n",
    "circsum.barrier()\n",
    "\n",
    "circsum.ccx(0,1,2)\n",
    "circsum.cx(0,1)\n",
    "\n",
    "circsum.barrier()\n",
    "\n",
    "circsum.measure(1,1)\n",
    "circsum.measure(2,0)\n",
    "\n",
    "circsum.draw()"
   ]
  },
  {
   "cell_type": "code",
   "execution_count": 13,
   "id": "experimental-mitchell",
   "metadata": {},
   "outputs": [],
   "source": [
    "symulator2 = Aer.get_backend('qasm_simulator')\n",
    "qobj2 = assemble(circsum, shots=1000)\n",
    "wyniki2 = symulator2.run(qobj2)"
   ]
  },
  {
   "cell_type": "code",
   "execution_count": 14,
   "id": "whole-airfare",
   "metadata": {},
   "outputs": [
    {
     "name": "stdout",
     "output_type": "stream",
     "text": [
      "{'01': 1000}\n"
     ]
    },
    {
     "data": {
      "image/png": "[encoded data removed]",
      "text/plain": [
       "<Figure size 504x360 with 1 Axes>"
      ]
     },
     "execution_count": 14,
     "metadata": {},
     "output_type": "execute_result"
    }
   ],
   "source": [
    "hist2 = wyniki2.result().get_counts()\n",
    "print(hist2)\n",
    "\n",
    "plot_histogram(hist2)"
   ]
  },
  {
   "cell_type": "code",
   "execution_count": null,
   "id": "backed-market",
   "metadata": {},
   "outputs": [],
   "source": []
  },
  {
   "cell_type": "code",
   "execution_count": 15,
   "id": "german-punch",
   "metadata": {},
   "outputs": [
    {
     "data": {
      "text/html": [
       "<pre style=\"word-wrap: normal;white-space: pre;background: #fff0;line-height: 1.1;font-family: &quot;Courier New&quot;,Courier,monospace\">     ┌───┐ ░                           ░       \n",
       "q_0: ┤ X ├─░───■────■──────────────■───░───────\n",
       "     └───┘ ░   │  ┌─┴─┐          ┌─┴─┐ ░       \n",
       "q_1: ──────░───■──┤ X ├──■────■──┤ X ├─░───────\n",
       "           ░   │  └───┘  │  ┌─┴─┐└───┘ ░ ┌─┐   \n",
       "q_2: ──────░───┼─────────■──┤ X ├──────░─┤M├───\n",
       "           ░ ┌─┴─┐     ┌─┴─┐└───┘      ░ └╥┘┌─┐\n",
       "q_3: ──────░─┤ X ├─────┤ X ├───────────░──╫─┤M├\n",
       "           ░ └───┘     └───┘           ░  ║ └╥┘\n",
       "c: 2/═════════════════════════════════════╩══╩═\n",
       "                                          1  0 </pre>"
      ],
      "text/plain": [
       "     ┌───┐ ░                           ░       \n",
       "q_0: ┤ X ├─░───■────■──────────────■───░───────\n",
       "     └───┘ ░   │  ┌─┴─┐          ┌─┴─┐ ░       \n",
       "q_1: ──────░───■──┤ X ├──■────■──┤ X ├─░───────\n",
       "           ░   │  └───┘  │  ┌─┴─┐└───┘ ░ ┌─┐   \n",
       "q_2: ──────░───┼─────────■──┤ X ├──────░─┤M├───\n",
       "           ░ ┌─┴─┐     ┌─┴─┐└───┘      ░ └╥┘┌─┐\n",
       "q_3: ──────░─┤ X ├─────┤ X ├───────────░──╫─┤M├\n",
       "           ░ └───┘     └───┘           ░  ║ └╥┘\n",
       "c: 2/═════════════════════════════════════╩══╩═\n",
       "                                          1  0 "
      ]
     },
     "execution_count": 15,
     "metadata": {},
     "output_type": "execute_result"
    }
   ],
   "source": [
    "#Sumator\n",
    "\n",
    "circsum = QuantumCircuit(4,2)\n",
    "\n",
    "# Inputs - stariting are 0,0\n",
    "\n",
    "circsum.x(0)\n",
    "# circsum.x(1)\n",
    "\n",
    "circsum.barrier()\n",
    "\n",
    "circsum.ccx(0,1,3)\n",
    "circsum.cx(0,1)\n",
    "circsum.ccx(1,2,3)\n",
    "circsum.cx(1,2)\n",
    "circsum.cx(0,1)\n",
    "\n",
    "circsum.barrier()\n",
    "\n",
    "circsum.measure(2,1)\n",
    "circsum.measure(3,0)\n",
    "\n",
    "circsum.draw()"
   ]
  },
  {
   "cell_type": "code",
   "execution_count": 16,
   "id": "quiet-fourth",
   "metadata": {},
   "outputs": [
    {
     "name": "stdout",
     "output_type": "stream",
     "text": [
      "{'10': 1000}\n"
     ]
    },
    {
     "data": {
      "image/png": "[encoded data removed]",
      "text/plain": [
       "<Figure size 504x360 with 1 Axes>"
      ]
     },
     "execution_count": 16,
     "metadata": {},
     "output_type": "execute_result"
    }
   ],
   "source": [
    "symulator2 = Aer.get_backend('qasm_simulator')\n",
    "qobj2 = assemble(circsum, shots=1000)\n",
    "wyniki2 = symulator2.run(qobj2)\n",
    "\n",
    "hist2 = wyniki2.result().get_counts()\n",
    "# hist_label = wyniki2.result().get_labels()\n",
    "print(hist2)\n",
    "\n",
    "plot_histogram(hist2)"
   ]
  },
  {
   "cell_type": "code",
   "execution_count": null,
   "id": "recreational-decision",
   "metadata": {},
   "outputs": [],
   "source": []
  },
  {
   "cell_type": "code",
   "execution_count": 17,
   "id": "focused-hunter",
   "metadata": {},
   "outputs": [
    {
     "data": {
      "text/html": [
       "<pre style=\"word-wrap: normal;white-space: pre;background: #fff0;line-height: 1.1;font-family: &quot;Courier New&quot;,Courier,monospace\">     ┌───┐ ░                      ░       \n",
       "q_0: ┤ X ├─░─────────────■────■───░───────\n",
       "     └───┘ ░ ┌───┐     ┌─┴─┐┌─┴─┐ ░       \n",
       "q_1: ──────░─┤ H ├──■──┤ X ├┤ X ├─░───────\n",
       "           ░ └───┘┌─┴─┐└───┘└───┘ ░ ┌─┐   \n",
       "q_2: ──────░──────┤ X ├───────────░─┤M├───\n",
       "           ░      └───┘           ░ └╥┘┌─┐\n",
       "q_3: ──────░──────────────────────░──╫─┤M├\n",
       "           ░                      ░  ║ └╥┘\n",
       "c: 2/════════════════════════════════╩══╩═\n",
       "                                     1  0 </pre>"
      ],
      "text/plain": [
       "     ┌───┐ ░                      ░       \n",
       "q_0: ┤ X ├─░─────────────■────■───░───────\n",
       "     └───┘ ░ ┌───┐     ┌─┴─┐┌─┴─┐ ░       \n",
       "q_1: ──────░─┤ H ├──■──┤ X ├┤ X ├─░───────\n",
       "           ░ └───┘┌─┴─┐└───┘└───┘ ░ ┌─┐   \n",
       "q_2: ──────░──────┤ X ├───────────░─┤M├───\n",
       "           ░      └───┘           ░ └╥┘┌─┐\n",
       "q_3: ──────░──────────────────────░──╫─┤M├\n",
       "           ░                      ░  ║ └╥┘\n",
       "c: 2/════════════════════════════════╩══╩═\n",
       "                                     1  0 "
      ]
     },
     "execution_count": 17,
     "metadata": {},
     "output_type": "execute_result"
    }
   ],
   "source": [
    "#Teleportacja kwantowa\n",
    "\n",
    "circsum = QuantumCircuit(4,2)\n",
    "\n",
    "# Inputs - stariting are 0,0\n",
    "\n",
    "circsum.x(0)\n",
    "# circsum.x(1)\n",
    "\n",
    "circsum.barrier()\n",
    "\n",
    "circsum.h(1)\n",
    "circsum.cx(1,2)\n",
    "circsum.cx(0,1)\n",
    "circsum.cx(0,1)\n",
    "\n",
    "circsum.barrier()\n",
    "\n",
    "circsum.measure(2,1)\n",
    "circsum.measure(3,0)\n",
    "\n",
    "circsum.draw()"
   ]
  },
  {
   "cell_type": "code",
   "execution_count": null,
   "id": "hourly-savannah",
   "metadata": {},
   "outputs": [],
   "source": []
  },
  {
   "cell_type": "code",
   "execution_count": null,
   "id": "accessory-salem",
   "metadata": {},
   "outputs": [],
   "source": []
  },
  {
   "cell_type": "code",
   "execution_count": null,
   "id": "addressed-monday",
   "metadata": {},
   "outputs": [],
   "source": []
  }
 ],
 "metadata": {
  "kernelspec": {
   "display_name": "Python 3",
   "language": "python",
   "name": "python3"
  },
  "language_info": {
   "codemirror_mode": {
    "name": "ipython",
    "version": 3
   },
   "file_extension": ".py",
   "mimetype": "text/x-python",
   "name": "python",
   "nbconvert_exporter": "python",
   "pygments_lexer": "ipython3",
   "version": "3.7.3"
  }
 },
 "nbformat": 4,
 "nbformat_minor": 5
}
