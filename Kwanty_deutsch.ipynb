{
 "cells": [
  {
   "cell_type": "code",
   "execution_count": null,
   "id": "systematic-advertiser",
   "metadata": {},
   "outputs": [],
   "source": []
  },
  {
   "cell_type": "code",
   "execution_count": 2,
   "id": "bright-policy",
   "metadata": {},
   "outputs": [],
   "source": [
    "from qiskit import QuantumCircuit"
   ]
  },
  {
   "cell_type": "code",
   "execution_count": 3,
   "id": "underlying-beaver",
   "metadata": {},
   "outputs": [
    {
     "data": {
      "text/html": [
       "<pre style=\"word-wrap: normal;white-space: pre;background: #fff0;line-height: 1.1;font-family: &quot;Courier New&quot;,Courier,monospace\">       ┌──────────────────────────────────────────────────┐ ░                »\n",
       " q1_0: ┤ Initialize(-0.40098+0.53805j,-0.74125+0.016218j) ├─░─────────────■──»\n",
       "       └──────────────────────────────────────────────────┘ ░ ┌───┐     ┌─┴─┐»\n",
       " q1_1: ─────────────────────────────────────────────────────░─┤ H ├──■──┤ X ├»\n",
       "                                                            ░ └───┘┌─┴─┐└───┘»\n",
       " q1_2: ─────────────────────────────────────────────────────░──────┤ X ├─────»\n",
       "                                                            ░      └───┘     »\n",
       "cr1: 1/══════════════════════════════════════════════════════════════════════»\n",
       "                                                                             »\n",
       "cr2: 1/══════════════════════════════════════════════════════════════════════»\n",
       "                                                                             »\n",
       "«       ┌───┐ ░ ┌─┐   \n",
       "« q1_0: ┤ H ├─░─┤M├───\n",
       "«       └───┘ ░ └╥┘┌─┐\n",
       "« q1_1: ──────░──╫─┤M├\n",
       "«             ░  ║ └╥┘\n",
       "« q1_2: ──────░──╫──╫─\n",
       "«             ░  ║  ║ \n",
       "«cr1: 1/═════════╩══╬═\n",
       "«                0  ║ \n",
       "«cr2: 1/════════════╩═\n",
       "«                   0 </pre>"
      ],
      "text/plain": [
       "       ┌──────────────────────────────────────────────────┐ ░                »\n",
       " q1_0: ┤ Initialize(-0.40098+0.53805j,-0.74125+0.016218j) ├─░─────────────■──»\n",
       "       └──────────────────────────────────────────────────┘ ░ ┌───┐     ┌─┴─┐»\n",
       " q1_1: ─────────────────────────────────────────────────────░─┤ H ├──■──┤ X ├»\n",
       "                                                            ░ └───┘┌─┴─┐└───┘»\n",
       " q1_2: ─────────────────────────────────────────────────────░──────┤ X ├─────»\n",
       "                                                            ░      └───┘     »\n",
       "cr1: 1/══════════════════════════════════════════════════════════════════════»\n",
       "                                                                             »\n",
       "cr2: 1/══════════════════════════════════════════════════════════════════════»\n",
       "                                                                             »\n",
       "«       ┌───┐ ░ ┌─┐   \n",
       "« q1_0: ┤ H ├─░─┤M├───\n",
       "«       └───┘ ░ └╥┘┌─┐\n",
       "« q1_1: ──────░──╫─┤M├\n",
       "«             ░  ║ └╥┘\n",
       "« q1_2: ──────░──╫──╫─\n",
       "«             ░  ║  ║ \n",
       "«cr1: 1/═════════╩══╬═\n",
       "«                0  ║ \n",
       "«cr2: 1/════════════╩═\n",
       "«                   0 "
      ]
     },
     "execution_count": 3,
     "metadata": {},
     "output_type": "execute_result"
    }
   ],
   "source": [
    "from qiskit import QuantumRegister, ClassicalRegister, QuantumCircuit\n",
    "from qiskit.quantum_info import random_statevector\n",
    "\n",
    "qr = QuantumRegister(3)\n",
    "cr1 = ClassicalRegister(1, name = 'cr1')\n",
    "cr2 = ClassicalRegister(1, name = 'cr2')\n",
    "tel = QuantumCircuit(qr, cr1, cr2)\n",
    "\n",
    "#Losujemy losowy kubit\n",
    "psi = random_statevector(2)\n",
    "tel.initialize(psi, 0)\n",
    "tel.barrier()\n",
    "tel.h(1)\n",
    "tel.cx(1,2)\n",
    "tel.cx(0,1)\n",
    "tel.h(0)\n",
    "tel.barrier()\n",
    "tel.measure(0,0)\n",
    "tel.measure(1,1)\n",
    "\n",
    "tel.draw()"
   ]
  },
  {
   "cell_type": "code",
   "execution_count": null,
   "id": "departmental-simpson",
   "metadata": {},
   "outputs": [],
   "source": []
  },
  {
   "cell_type": "code",
   "execution_count": null,
   "id": "necessary-optimization",
   "metadata": {},
   "outputs": [],
   "source": []
  }
 ],
 "metadata": {
  "kernelspec": {
   "display_name": "Python 3",
   "language": "python",
   "name": "python3"
  },
  "language_info": {
   "codemirror_mode": {
    "name": "ipython",
    "version": 3
   },
   "file_extension": ".py",
   "mimetype": "text/x-python",
   "name": "python",
   "nbconvert_exporter": "python",
   "pygments_lexer": "ipython3",
   "version": "3.7.3"
  }
 },
 "nbformat": 4,
 "nbformat_minor": 5
}
