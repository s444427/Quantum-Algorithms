{
 "cells": [
  {
   "cell_type": "code",
   "execution_count": 32,
   "id": "nonprofit-bridges",
   "metadata": {},
   "outputs": [],
   "source": [
    "# Miniprojekt f(x) = (x + 444427) mod 8"
   ]
  },
  {
   "cell_type": "code",
   "execution_count": 33,
   "id": "voluntary-barcelona",
   "metadata": {},
   "outputs": [],
   "source": [
    "# Z własności modulo (x + 444427) mod 8 = (x mod 8 + 444427 mod 8) mod 8 = (x mod 8 + 3) mod 8. \n",
    "# Zatem f(x) = (x + 444427) mod 8 = (x + 3) mod 8"
   ]
  },
  {
   "cell_type": "code",
   "execution_count": 41,
   "id": "engaging-success",
   "metadata": {},
   "outputs": [],
   "source": [
    "# from qiskit import QuantumCircuit\n",
    "from qiskit import QuantumRegister, ClassicalRegister, QuantumCircuit\n",
    "\n",
    "from qiskit.quantum_info import random_statevector\n",
    "\n",
    "from qiskit import Aer\n",
    "from qiskit import assemble\n",
    "\n",
    "from qiskit.visualization import plot_histogram"
   ]
  },
  {
   "cell_type": "code",
   "execution_count": 50,
   "id": "opened-donna",
   "metadata": {},
   "outputs": [
    {
     "data": {
      "text/html": [
       "<pre style=\"word-wrap: normal;white-space: pre;background: #fff0;line-height: 1.1;font-family: &quot;Courier New&quot;,Courier,monospace\">       ┌───┐ ░ ┌───┐           ░ ┌─┐      \n",
       "q16_0: ┤ X ├─░─┤ X ├──■────■───░─┤M├──────\n",
       "       ├───┤ ░ └───┘┌─┴─┐  │   ░ └╥┘┌─┐   \n",
       "q16_1: ┤ X ├─░──────┤ X ├──■───░──╫─┤M├───\n",
       "       └───┘ ░ ┌───┐└───┘┌─┴─┐ ░  ║ └╥┘┌─┐\n",
       "q16_2: ──────░─┤ X ├─────┤ X ├─░──╫──╫─┤M├\n",
       "             ░ └───┘     └───┘ ░  ║  ║ └╥┘\n",
       "cr1: 1/═══════════════════════════╩══╬══╬═\n",
       "                                  0  ║  ║ \n",
       "                                     ║  ║ \n",
       "cr2: 1/══════════════════════════════╩══╬═\n",
       "                                     0  ║ \n",
       "                                        ║ \n",
       "cr3: 1/═════════════════════════════════╩═\n",
       "                                        0 </pre>"
      ],
      "text/plain": [
       "       ┌───┐ ░ ┌───┐           ░ ┌─┐      \n",
       "q16_0: ┤ X ├─░─┤ X ├──■────■───░─┤M├──────\n",
       "       ├───┤ ░ └───┘┌─┴─┐  │   ░ └╥┘┌─┐   \n",
       "q16_1: ┤ X ├─░──────┤ X ├──■───░──╫─┤M├───\n",
       "       └───┘ ░ ┌───┐└───┘┌─┴─┐ ░  ║ └╥┘┌─┐\n",
       "q16_2: ──────░─┤ X ├─────┤ X ├─░──╫──╫─┤M├\n",
       "             ░ └───┘     └───┘ ░  ║  ║ └╥┘\n",
       "cr1: 1/═══════════════════════════╩══╬══╬═\n",
       "                                  0  ║  ║ \n",
       "                                     ║  ║ \n",
       "cr2: 1/══════════════════════════════╩══╬═\n",
       "                                     0  ║ \n",
       "                                        ║ \n",
       "cr3: 1/═════════════════════════════════╩═\n",
       "                                        0 "
      ]
     },
     "execution_count": 50,
     "metadata": {},
     "output_type": "execute_result"
    }
   ],
   "source": [
    "qr = QuantumRegister(3)\n",
    "cr1 = ClassicalRegister(1, name = 'cr1')\n",
    "cr2 = ClassicalRegister(1, name = 'cr2')\n",
    "cr3 = ClassicalRegister(1, name = 'cr3')\n",
    "mod = QuantumCircuit(qr, cr1, cr2, cr3)\n",
    "\n",
    "#Losujemy losowy kubit\n",
    "# psi = random_statevector(2)\n",
    "# mod.initialize(psi, 0)\n",
    "\n",
    "mod.x(0)\n",
    "mod.x(1)\n",
    "# mod.x(2)\n",
    "\n",
    "mod.barrier()\n",
    "\n",
    "mod.x(0)\n",
    "mod.cx(0,1)\n",
    "mod.x(2)\n",
    "mod.ccx(0, 1,2)\n",
    "\n",
    "mod.barrier()\n",
    "\n",
    "mod.measure(0,0)\n",
    "mod.measure(1,1)\n",
    "mod.measure(2,2)\n",
    "\n",
    "mod.draw()"
   ]
  },
  {
   "cell_type": "code",
   "execution_count": 51,
   "id": "cultural-custom",
   "metadata": {},
   "outputs": [
    {
     "name": "stdout",
     "output_type": "stream",
     "text": [
      "{'1 1 0': 1000}\n"
     ]
    },
    {
     "data": {
      "image/png": "[encoded data removed]",
      "text/plain": [
       "<Figure size 504x360 with 1 Axes>"
      ]
     },
     "execution_count": 51,
     "metadata": {},
     "output_type": "execute_result"
    }
   ],
   "source": [
    "symulator_mod = Aer.get_backend('qasm_simulator')\n",
    "qobj_mod = assemble(mod, shots=1000)\n",
    "wyniki_mod = symulator_mod.run(qobj_mod)\n",
    "\n",
    "hist_mod = wyniki_mod.result().get_counts()\n",
    "print(hist_mod)\n",
    "\n",
    "plot_histogram(hist_mod)"
   ]
  },
  {
   "cell_type": "code",
   "execution_count": null,
   "id": "rising-ceremony",
   "metadata": {},
   "outputs": [],
   "source": []
  },
  {
   "cell_type": "code",
   "execution_count": null,
   "id": "crucial-turner",
   "metadata": {},
   "outputs": [],
   "source": []
  }
 ],
 "metadata": {
  "kernelspec": {
   "display_name": "Python 3",
   "language": "python",
   "name": "python3"
  },
  "language_info": {
   "codemirror_mode": {
    "name": "ipython",
    "version": 3
   },
   "file_extension": ".py",
   "mimetype": "text/x-python",
   "name": "python",
   "nbconvert_exporter": "python",
   "pygments_lexer": "ipython3",
   "version": "3.7.3"
  }
 },
 "nbformat": 4,
 "nbformat_minor": 5
}
