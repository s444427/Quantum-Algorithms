{
 "cells": [
  {
   "cell_type": "code",
   "execution_count": 3,
   "id": "enhanced-shore",
   "metadata": {},
   "outputs": [],
   "source": [
    "# Zadanie sprawdzenia, czy dany element jest w bazie"
   ]
  },
  {
   "cell_type": "code",
   "execution_count": 4,
   "id": "instructional-probe",
   "metadata": {},
   "outputs": [],
   "source": [
    "# Algorytm:\n",
    "# fy: {0,1}^n -> {0,1}\n",
    "# {0, 1} -> x, y\n",
    "\n",
    "# fy(x) = 1, dla y = x\n",
    "#       = 0, dla y != x\n",
    "\n",
    "# Uf |x z> -> |x  z XOR fy(x)>\n",
    "\n",
    "#zaczynamy od stałego y"
   ]
  },
  {
   "cell_type": "code",
   "execution_count": 1,
   "id": "tight-rachel",
   "metadata": {},
   "outputs": [],
   "source": [
    "# from qiskit import QuantumCircuit\n",
    "from qiskit import QuantumRegister, ClassicalRegister, QuantumCircuit\n",
    "\n",
    "from qiskit.quantum_info import random_statevector\n",
    "\n",
    "from qiskit import Aer\n",
    "from qiskit import assemble\n",
    "\n",
    "from qiskit.visualization import plot_histogram"
   ]
  },
  {
   "cell_type": "code",
   "execution_count": 25,
   "id": "recognized-filter",
   "metadata": {},
   "outputs": [
    {
     "data": {
      "text/html": [
       "<pre style=\"word-wrap: normal;white-space: pre;background: #fff0;line-height: 1.1;font-family: &quot;Courier New&quot;,Courier,monospace\">        ░       ░                 ░       ░ ┌─┐         \n",
       "q20_0: ─░───────░───■─────────■───░───────░─┤M├─────────\n",
       "        ░ ┌───┐ ░   │         │   ░       ░ └╥┘┌─┐      \n",
       "q20_1: ─░─┤ X ├─░───■─────────■───░───────░──╫─┤M├──────\n",
       "        ░ ├───┤ ░   │         │   ░       ░  ║ └╥┘┌─┐   \n",
       "q20_2: ─░─┤ X ├─░───┼────■────┼───░───────░──╫──╫─┤M├───\n",
       "        ░ └───┘ ░   │    │    │   ░       ░  ║  ║ └╥┘   \n",
       "q20_3: ─░───────░───┼────┼────┼───░───■───░──╫──╫──╫────\n",
       "        ░       ░ ┌─┴─┐  │  ┌─┴─┐ ░ ┌─┴─┐ ░  ║  ║  ║ ┌─┐\n",
       "q20_4: ─░───────░─┤ X ├──■──┤ X ├─░─┤ X ├─░──╫──╫──╫─┤M├\n",
       "        ░       ░ └───┘┌─┴─┐└───┘ ░ └─┬─┘ ░  ║  ║  ║ └╥┘\n",
       "q20_5: ─░───────░──────┤ X ├──────░───■───░──╫──╫──╫──╫─\n",
       "        ░       ░      └───┘      ░       ░  ║  ║  ║  ║ \n",
       "cr1: 1/══════════════════════════════════════╩══╬══╬══╬═\n",
       "                                             0  ║  ║  ║ \n",
       "                                                ║  ║  ║ \n",
       "cr2: 1/═════════════════════════════════════════╩══╬══╬═\n",
       "                                                0  ║  ║ \n",
       "                                                   ║  ║ \n",
       "cr3: 1/════════════════════════════════════════════╩══╬═\n",
       "                                                   0  ║ \n",
       "                                                      ║ \n",
       "cr4: 1/═══════════════════════════════════════════════╩═\n",
       "                                                      0 </pre>"
      ],
      "text/plain": [
       "        ░       ░                 ░       ░ ┌─┐         \n",
       "q20_0: ─░───────░───■─────────■───░───────░─┤M├─────────\n",
       "        ░ ┌───┐ ░   │         │   ░       ░ └╥┘┌─┐      \n",
       "q20_1: ─░─┤ X ├─░───■─────────■───░───────░──╫─┤M├──────\n",
       "        ░ ├───┤ ░   │         │   ░       ░  ║ └╥┘┌─┐   \n",
       "q20_2: ─░─┤ X ├─░───┼────■────┼───░───────░──╫──╫─┤M├───\n",
       "        ░ └───┘ ░   │    │    │   ░       ░  ║  ║ └╥┘   \n",
       "q20_3: ─░───────░───┼────┼────┼───░───■───░──╫──╫──╫────\n",
       "        ░       ░ ┌─┴─┐  │  ┌─┴─┐ ░ ┌─┴─┐ ░  ║  ║  ║ ┌─┐\n",
       "q20_4: ─░───────░─┤ X ├──■──┤ X ├─░─┤ X ├─░──╫──╫──╫─┤M├\n",
       "        ░       ░ └───┘┌─┴─┐└───┘ ░ └─┬─┘ ░  ║  ║  ║ └╥┘\n",
       "q20_5: ─░───────░──────┤ X ├──────░───■───░──╫──╫──╫──╫─\n",
       "        ░       ░      └───┘      ░       ░  ║  ║  ║  ║ \n",
       "cr1: 1/══════════════════════════════════════╩══╬══╬══╬═\n",
       "                                             0  ║  ║  ║ \n",
       "                                                ║  ║  ║ \n",
       "cr2: 1/═════════════════════════════════════════╩══╬══╬═\n",
       "                                                0  ║  ║ \n",
       "                                                   ║  ║ \n",
       "cr3: 1/════════════════════════════════════════════╩══╬═\n",
       "                                                   0  ║ \n",
       "                                                      ║ \n",
       "cr4: 1/═══════════════════════════════════════════════╩═\n",
       "                                                      0 "
      ]
     },
     "execution_count": 25,
     "metadata": {},
     "output_type": "execute_result"
    }
   ],
   "source": [
    "# n = 3,\n",
    "# Zatem input: |x1 x2 x3 z>\n",
    "\n",
    "qr = QuantumRegister(6)\n",
    "cr1 = ClassicalRegister(1, name = 'cr1')\n",
    "cr2 = ClassicalRegister(1, name = 'cr2')\n",
    "cr3 = ClassicalRegister(1, name = 'cr3')\n",
    "cr4 = ClassicalRegister(1, name = 'cr4')\n",
    "mod = QuantumCircuit(qr, cr1, cr2, cr3, cr4)\n",
    "\n",
    "# Manualny operator inputu\n",
    "# mod.x(0)\n",
    "# mod.x(1)\n",
    "\n",
    "mod.barrier()\n",
    "\n",
    "# Funkcja F\n",
    "y = '001'\n",
    "if y == '001':\n",
    "    mod.x(1)\n",
    "    mod.x(2)\n",
    "\n",
    "mod.barrier()\n",
    "\n",
    "# AND po wszystkich wartościach (trzech)\n",
    "mod.ccx(0,1, 4)\n",
    "mod.ccx(2,4, 5)\n",
    "mod.ccx(0,1, 4)\n",
    "\n",
    "mod.barrier()\n",
    "\n",
    "# XOR f(xxx) z z\n",
    "mod.ccx(3,5, 4)\n",
    "\n",
    "mod.barrier()\n",
    "\n",
    "mod.measure(0,0)\n",
    "mod.measure(1,1)\n",
    "mod.measure(2,2)\n",
    "mod.measure(4,3)\n",
    "\n",
    "mod.draw()"
   ]
  },
  {
   "cell_type": "code",
   "execution_count": null,
   "id": "polished-diamond",
   "metadata": {},
   "outputs": [],
   "source": []
  }
 ],
 "metadata": {
  "kernelspec": {
   "display_name": "Python 3",
   "language": "python",
   "name": "python3"
  },
  "language_info": {
   "codemirror_mode": {
    "name": "ipython",
    "version": 3
   },
   "file_extension": ".py",
   "mimetype": "text/x-python",
   "name": "python",
   "nbconvert_exporter": "python",
   "pygments_lexer": "ipython3",
   "version": "3.7.3"
  }
 },
 "nbformat": 4,
 "nbformat_minor": 5
}
