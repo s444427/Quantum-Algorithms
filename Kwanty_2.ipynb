{
 "cells": [
  {
   "cell_type": "code",
   "execution_count": 19,
   "id": "tamil-register",
   "metadata": {},
   "outputs": [],
   "source": [
    "#Teleportacja kwantowa"
   ]
  },
  {
   "cell_type": "code",
   "execution_count": 20,
   "id": "prescribed-tumor",
   "metadata": {},
   "outputs": [],
   "source": [
    "from qiskit import QuantumCircuit"
   ]
  },
  {
   "cell_type": "code",
   "execution_count": 21,
   "id": "ecological-pharmacology",
   "metadata": {},
   "outputs": [
    {
     "data": {
      "text/html": [
       "<pre style=\"word-wrap: normal;white-space: pre;background: #fff0;line-height: 1.1;font-family: &quot;Courier New&quot;,Courier,monospace\">       ┌──────────────────────────────────────────────────┐ ░                »\n",
       " q3_0: ┤ Initialize(-0.71273-0.67905j,-0.026545+0.17382j) ├─░─────────────■──»\n",
       "       └──────────────────────────────────────────────────┘ ░ ┌───┐     ┌─┴─┐»\n",
       " q3_1: ─────────────────────────────────────────────────────░─┤ H ├──■──┤ X ├»\n",
       "                                                            ░ └───┘┌─┴─┐└───┘»\n",
       " q3_2: ─────────────────────────────────────────────────────░──────┤ X ├─────»\n",
       "                                                            ░      └───┘     »\n",
       "cr1: 1/══════════════════════════════════════════════════════════════════════»\n",
       "                                                                             »\n",
       "cr2: 1/══════════════════════════════════════════════════════════════════════»\n",
       "                                                                             »\n",
       "«       ┌───┐ ░ ┌─┐   \n",
       "« q3_0: ┤ H ├─░─┤M├───\n",
       "«       └───┘ ░ └╥┘┌─┐\n",
       "« q3_1: ──────░──╫─┤M├\n",
       "«             ░  ║ └╥┘\n",
       "« q3_2: ──────░──╫──╫─\n",
       "«             ░  ║  ║ \n",
       "«cr1: 1/═════════╩══╬═\n",
       "«                0  ║ \n",
       "«cr2: 1/════════════╩═\n",
       "«                   0 </pre>"
      ],
      "text/plain": [
       "       ┌──────────────────────────────────────────────────┐ ░                »\n",
       " q3_0: ┤ Initialize(-0.71273-0.67905j,-0.026545+0.17382j) ├─░─────────────■──»\n",
       "       └──────────────────────────────────────────────────┘ ░ ┌───┐     ┌─┴─┐»\n",
       " q3_1: ─────────────────────────────────────────────────────░─┤ H ├──■──┤ X ├»\n",
       "                                                            ░ └───┘┌─┴─┐└───┘»\n",
       " q3_2: ─────────────────────────────────────────────────────░──────┤ X ├─────»\n",
       "                                                            ░      └───┘     »\n",
       "cr1: 1/══════════════════════════════════════════════════════════════════════»\n",
       "                                                                             »\n",
       "cr2: 1/══════════════════════════════════════════════════════════════════════»\n",
       "                                                                             »\n",
       "«       ┌───┐ ░ ┌─┐   \n",
       "« q3_0: ┤ H ├─░─┤M├───\n",
       "«       └───┘ ░ └╥┘┌─┐\n",
       "« q3_1: ──────░──╫─┤M├\n",
       "«             ░  ║ └╥┘\n",
       "« q3_2: ──────░──╫──╫─\n",
       "«             ░  ║  ║ \n",
       "«cr1: 1/═════════╩══╬═\n",
       "«                0  ║ \n",
       "«cr2: 1/════════════╩═\n",
       "«                   0 "
      ]
     },
     "execution_count": 21,
     "metadata": {},
     "output_type": "execute_result"
    }
   ],
   "source": [
    "from qiskit import QuantumRegister, ClassicalRegister, QuantumCircuit\n",
    "from qiskit.quantum_info import random_statevector\n",
    "\n",
    "qr = QuantumRegister(3)\n",
    "cr1 = ClassicalRegister(1, name = 'cr1')\n",
    "cr2 = ClassicalRegister(1, name = 'cr2')\n",
    "tel = QuantumCircuit(qr, cr1, cr2)\n",
    "\n",
    "#Losujemy losowy kubit\n",
    "psi = random_statevector(2)\n",
    "tel.initialize(psi, 0)\n",
    "tel.barrier()\n",
    "tel.h(1)\n",
    "tel.cx(1,2)\n",
    "tel.cx(0,1)\n",
    "tel.h(0)\n",
    "tel.barrier()\n",
    "tel.measure(0,0)\n",
    "tel.measure(1,1)\n",
    "\n",
    "tel.draw()"
   ]
  },
  {
   "cell_type": "code",
   "execution_count": 22,
   "id": "unknown-infrastructure",
   "metadata": {},
   "outputs": [],
   "source": [
    "from qiskit import Aer\n",
    "from qiskit import assemble\n",
    "\n",
    "symulator = Aer.get_backend('qasm_simulator')\n",
    "telas = assemble(tel, shots = 2)\n",
    "wyniki = symulator.run(telas)"
   ]
  },
  {
   "cell_type": "code",
   "execution_count": 23,
   "id": "american-portfolio",
   "metadata": {},
   "outputs": [
    {
     "name": "stdout",
     "output_type": "stream",
     "text": [
      "{'0 1': 1, '1 1': 1}\n"
     ]
    }
   ],
   "source": [
    "hist = wyniki.result().get_counts()\n",
    "print(hist)"
   ]
  },
  {
   "cell_type": "code",
   "execution_count": 24,
   "id": "eight-cooler",
   "metadata": {},
   "outputs": [
    {
     "data": {
      "text/plain": [
       "<qiskit.circuit.instructionset.InstructionSet at 0x7f2e3d548438>"
      ]
     },
     "execution_count": 24,
     "metadata": {},
     "output_type": "execute_result"
    }
   ],
   "source": [
    "tel.x(2).c_if(cr1, 1) # Jeśli crl ma wartość 1, to działaj na tel bramka x\n",
    "tel.z(2).c_if(cr2, 1)"
   ]
  },
  {
   "cell_type": "code",
   "execution_count": null,
   "id": "bigger-amendment",
   "metadata": {},
   "outputs": [],
   "source": [
    "sym = Aer.get_backend('statevector_simulate')\n"
   ]
  }
 ],
 "metadata": {
  "kernelspec": {
   "display_name": "Python 3",
   "language": "python",
   "name": "python3"
  },
  "language_info": {
   "codemirror_mode": {
    "name": "ipython",
    "version": 3
   },
   "file_extension": ".py",
   "mimetype": "text/x-python",
   "name": "python",
   "nbconvert_exporter": "python",
   "pygments_lexer": "ipython3",
   "version": "3.7.3"
  }
 },
 "nbformat": 4,
 "nbformat_minor": 5
}
